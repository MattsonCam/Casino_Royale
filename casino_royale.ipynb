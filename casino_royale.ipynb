{
 "cells": [
  {
   "cell_type": "code",
   "execution_count": 5,
   "id": "1436e6d8",
   "metadata": {},
   "outputs": [
    {
     "name": "stdout",
     "output_type": "stream",
     "text": [
      "<class 'pandas.core.frame.DataFrame'>\n",
      "    Location     Attributes     JULY 2010   AUGUST 2010 SEPTEMBER 2010  \\\n",
      "1  Statewide    Slots Total         15224         15182          15189   \n",
      "2  Statewide       Coins In  924881940.34  900224418.95   859887596.89   \n",
      "3  Statewide            AGP   63485300.52    60548129.6    59638919.56   \n",
      "4  Statewide  Avg Daily AGP    134.518715    128.650077     130.881821   \n",
      "5  Statewide         Hold %      0.068642      0.067259       0.069357   \n",
      "\n",
      "   OCTOBER 2010 NOVEMBER 2010 DECEMBER 2010  JANUARY 2011 FEBRUARY 2011  ...  \\\n",
      "1         15067         14572         14194         14367         14303  ...   \n",
      "2  859014005.02  745499907.07  740211154.54  781224517.61  738530651.44  ...   \n",
      "3   58207468.91   50949581.25    51507997.2   53065324.29   51589059.54  ...   \n",
      "4    124.620713    116.751587    117.264377    119.248209    128.816781  ...   \n",
      "5      0.067761      0.068343      0.069586      0.067926      0.069854  ...   \n",
      "\n",
      "   OCTOBER 2020 NOVEMBER 2020 DECEMBER 2020  JANUARY 2021 FEBRUARY 2021  \\\n",
      "1          9568          9801          9689          9791          9635   \n",
      "2  796511314.26   681634932.4  719259262.95  850275507.95  768447490.62   \n",
      "3    58633938.1   52440830.43   53972287.94   62730614.05   57216943.45   \n",
      "4     197.68158    178.351972    179.692594    206.676355    212.087417   \n",
      "5      0.073613      0.076934      0.075039      0.073777      0.074458   \n",
      "\n",
      "     MARCH 2021    APRIL 2021       MAY 2021     JUNE 2021      TOTAL 2021  \n",
      "1          9794          9970          10405         10625          118947  \n",
      "2  899562378.82  960508527.56  1004723495.98  990075791.76  10133634195.08  \n",
      "3    67299118.1   73129925.59    69198617.82   82682794.91    763389779.71  \n",
      "4    227.668987    245.990772     214.532771    259.397004      212.928775  \n",
      "5      0.074813      0.076137       0.068873      0.083512        0.075332  \n",
      "\n",
      "[5 rows x 145 columns]\n"
     ]
    }
   ],
   "source": [
    "import numpy as np\n",
    "import pandas as pd\n",
    "import os\n",
    "\n",
    "excelpath = 'excel_gaming_data'\n",
    "#gamedf = pd.read_excel(excelpath + '/Tax10-11.xls')\n",
    "ddict = {}\n",
    "for filename in os.listdir(excelpath):\n",
    "    f = os.path.join(excelpath, filename)\n",
    "    # checking if it is a file\n",
    "    if os.path.isfile(f) & ~filename.startswith('.'):\n",
    "        ddict[filename[-6:-4]] = pd.read_excel(excelpath + '/' + filename)\n",
    "        \n",
    "        for idx, val in enumerate(ddict[filename[-6:-4]].iloc[0,:]):\n",
    "            if idx > 1:\n",
    "                if idx > 7:\n",
    "                    ddict[filename[-6:-4]].columns.values[idx] = ddict[filename[-6:-4]].iloc[0,idx] + ' 20' + str(filename[-6:-4])\n",
    "                else:\n",
    "                    ddict[filename[-6:-4]].columns.values[idx] = ddict[filename[-6:-4]].iloc[0,idx] + ' 20' + str(filename[-9:-7])\n",
    "        if filename[-6:-4] != '11':\n",
    "            ddict[filename[-6:-4]] = ddict[filename[-6:-4]].drop(columns=ddict[filename[-6:-4]].columns[0])\n",
    "            ddict[filename[-6:-4]] = ddict[filename[-6:-4]].drop(columns=ddict[filename[-6:-4]].columns[0])\n",
    "            \n",
    "gamedf = ddict['11']\n",
    "print(type(gamedf))\n",
    "for ind in range(12,22):\n",
    "    gamedf = pd.concat([gamedf,ddict[str(ind)]],axis=1)\n",
    "\n",
    "gamedf.columns.values[0] = 'Location'\n",
    "gamedf.columns.values[1] = 'Attributes'\n",
    "gamedf = gamedf.drop(0)\n",
    "print(gamedf.head())"
   ]
  }
 ],
 "metadata": {
  "kernelspec": {
   "display_name": "Python 3 (ipykernel)",
   "language": "python",
   "name": "python3"
  },
  "language_info": {
   "codemirror_mode": {
    "name": "ipython",
    "version": 3
   },
   "file_extension": ".py",
   "mimetype": "text/x-python",
   "name": "python",
   "nbconvert_exporter": "python",
   "pygments_lexer": "ipython3",
   "version": "3.9.7"
  }
 },
 "nbformat": 4,
 "nbformat_minor": 5
}
