{
 "cells": [
  {
   "cell_type": "code",
   "execution_count": 202,
   "id": "1436e6d8",
   "metadata": {
    "tags": []
   },
   "outputs": [
    {
     "name": "stdout",
     "output_type": "stream",
     "text": [
      "Attributes\n",
      "Slots Total                  Cripple Creek\n",
      "Slots Total Coins In         Cripple Creek\n",
      "Slots Total AGP              Cripple Creek\n",
      "Slots Total Avg Daily AGP    Cripple Creek\n",
      "Slots Total Hold %           Cripple Creek\n",
      "Name: Location, dtype: object\n"
     ]
    }
   ],
   "source": [
    "import numpy as np\n",
    "import pandas as pd\n",
    "import matplotlib.pyplot as plt\n",
    "import scipy.stats as stats\n",
    "import seaborn as sns\n",
    "import math\n",
    "import os\n",
    "\n",
    "excelpath = 'excel_gaming_data'\n",
    "#gamedf = pd.read_excel(excelpath + '/Tax10-11.xls')\n",
    "ddict = {} # Created A dataframe dictionary to modify each dictionary iteratively\n",
    "for filename in os.listdir(excelpath): # Iterates through each excel file\n",
    "    f = os.path.join(excelpath, filename)\n",
    "    # checking if it is a file\n",
    "    if os.path.isfile(f) & ~filename.startswith('.'):\n",
    "        ddict[filename[-6:-4]] = pd.read_excel(excelpath + '/' + filename) # sets the value of each dictionary\n",
    "        \n",
    "        for idx, val in enumerate(ddict[filename[-6:-4]].iloc[0,:]): # Iterates through each column of the excel spread sheet in question\n",
    "            if idx > 1:\n",
    "                if idx > 7:\n",
    "                    ddict[filename[-6:-4]].columns.values[idx] = ddict[filename[-6:-4]].iloc[0,idx] + ' 20' + str(filename[-6:-4]) # Changes the column name using the next year and the month. The next year is used if past December, which corresponds to an index of 7, ad\n",
    "                else:\n",
    "                    ddict[filename[-6:-4]].columns.values[idx] = ddict[filename[-6:-4]].iloc[0,idx] + ' 20' + str(filename[-9:-7]) # Changes the column name using the first year specified and the month\n",
    "        if filename[-6:-4] != '11': # Removes the first 2 columns of the excel spread sheet, except if it is the starting year spread sheet\n",
    "            ddict[filename[-6:-4]] = ddict[filename[-6:-4]].drop(columns=ddict[filename[-6:-4]].columns[0])\n",
    "            ddict[filename[-6:-4]] = ddict[filename[-6:-4]].drop(columns=ddict[filename[-6:-4]].columns[0])\n",
    "            \n",
    "gamedf = ddict['11'] # initializes the dataframe for our game data\n",
    "for ind in range(12,22): # Concatenates all dictionary values into one pandas dataframe\n",
    "    gamedf = pd.concat([gamedf,ddict[str(ind)]],axis=1)\n",
    "\n",
    "# Changed some column names:\n",
    "gamedf.columns.values[0] = 'Location' \n",
    "gamedf.columns.values[1] = 'Attributes'\n",
    "gamedf = gamedf.drop(0) # Removes the first row \n",
    "gamedf = gamedf.iloc[0:429,:]\n",
    "\n",
    "gamedf_T=gamedf.T\n",
    "gamedf_T.columns = gamedf_T.iloc[1]\n",
    "gamedf_T=gamedf_T.drop(gamedf_T.index[[1]])\n",
    "\n",
    "\n",
    "colval = gamedf_T.columns[0]\n",
    "\n",
    "for ind in range(1,len(gamedf_T.columns)):\n",
    "    if pd.isna(gamedf_T.columns[ind - 1]):\n",
    "        colval = gamedf_T.columns[ind]\n",
    "\n",
    "    if (not pd.isna(gamedf_T.columns[ind - 1])) and (not pd.isna(gamedf_T.columns[ind])):\n",
    "        gamedf_T.columns.values[ind] = str(colval) + ' ' + str(gamedf_T.columns[ind])\n",
    "\n",
    "for ind in range(1,len(gamedf_T.columns)):\n",
    "    if pd.isna(gamedf_T.columns[ind]):\n",
    "        gamedf_T.columns.values[ind] = 'trash'\n",
    "\n",
    "gamedf_T.drop(['trash'], axis = 1, inplace = True)\n",
    "gamedf_T.to_csv('gamedf_T.csv')\n",
    "#gamedf_T.drop(gamedf_T.columns.values[drcols], axis = 1, inplace = True)\n",
    "\n",
    "\n",
    "stateval = 26*3 + 10\n",
    "crippleval = 26*6 + 19\n",
    "blackval = 26*10 + 2\n",
    "centralval = 26*13 + 10\n",
    "state = gamedf_T.iloc[:,0:stateval-1]#.drop(['Location'])\n",
    "cripple = gamedf_T.iloc[:,stateval-1:crippleval-1]#.drop(['Location'])\n",
    "black = gamedf_T.iloc[:,crippleval:blackval-1]#.drop(['Location'])\n",
    "central = gamedf_T.iloc[:,blackval:centralval-1]#.drop(['Location'])\n",
    "black.to_csv('black.csv')\n",
    "cripple.to_csv('cripple.csv')\n",
    "\n",
    "\n",
    "#print(state.iloc[0,-5:])\n",
    "#print(cripple.iloc[0,-5:])\n",
    "#print(black.iloc[0,-5:])\n",
    "\n",
    "print(cripple.iloc[0,0:5])\n",
    "\n",
    "colors = ['r','g','b']\n",
    "#plt.scatter(state.iloc[:,0],np.zeros(len(state.iloc[:,0])), color='r')\n",
    "#plt.scatter(cripple.iloc[:,0],np.zeros(len(cripple.iloc[:,0])), color='g')\n",
    "#plt.scatter(black.iloc[:,0],np.zeros(len(black.iloc[:,0])), color='b')"
   ]
  },
  {
   "cell_type": "code",
   "execution_count": null,
   "id": "14aa12e6-83e2-41fc-883f-b6306228cdd9",
   "metadata": {},
   "outputs": [],
   "source": []
  },
  {
   "cell_type": "code",
   "execution_count": null,
   "id": "4a796666-c1b5-45c1-8bb3-72ce4f80e06b",
   "metadata": {},
   "outputs": [],
   "source": []
  }
 ],
 "metadata": {
  "kernelspec": {
   "display_name": "Python 3 (ipykernel)",
   "language": "python",
   "name": "python3"
  },
  "language_info": {
   "codemirror_mode": {
    "name": "ipython",
    "version": 3
   },
   "file_extension": ".py",
   "mimetype": "text/x-python",
   "name": "python",
   "nbconvert_exporter": "python",
   "pygments_lexer": "ipython3",
   "version": "3.9.6"
  }
 },
 "nbformat": 4,
 "nbformat_minor": 5
}
